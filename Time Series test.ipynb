{
 "cells": [
  {
   "cell_type": "code",
   "execution_count": 187,
   "metadata": {},
   "outputs": [],
   "source": [
    "from statsmodels.tsa import stattools as st\n",
    "import pandas as pd \n",
    "from statsmodels.graphics.tsaplots import *\n",
    "import matplotlib.pyplot as plt\n",
    "from arch.unitroot import ADF "
   ]
  },
  {
   "cell_type": "code",
   "execution_count": 27,
   "metadata": {},
   "outputs": [],
   "source": [
    "stock = pd.read_csv(\"./stocklist/8446_stockinfo.csv\",index_col=\"date\")\n"
   ]
  },
  {
   "cell_type": "code",
   "execution_count": 290,
   "metadata": {},
   "outputs": [
    {
     "name": "stdout",
     "output_type": "stream",
     "text": [
      "date\n",
      "2018-01-08    103.5\n",
      "2018-01-09    103.0\n",
      "2018-01-10    104.0\n",
      "2018-01-11    108.0\n",
      "2018-01-12    108.0\n",
      "Name: close, dtype: float64\n",
      "date\n",
      "2018-01-08    0.5\n",
      "2018-01-09    1.0\n",
      "2018-01-10    0.5\n",
      "2018-01-11    5.0\n",
      "2018-01-12    4.0\n",
      "Name: close, dtype: float64\n",
      "date\n",
      "2018-01-08    0.004831\n",
      "2018-01-09    0.009709\n",
      "2018-01-10    0.004808\n",
      "2018-01-11    0.046296\n",
      "2018-01-12    0.037037\n",
      "Name: close, dtype: float64\n",
      "========================\n",
      "date\n",
      "2018-01-09    103.0\n",
      "2018-01-10    104.0\n",
      "2018-01-11    108.0\n",
      "2018-01-12    108.0\n",
      "2018-01-15    110.0\n",
      "2018-01-16    110.0\n",
      "2018-01-17    109.0\n",
      "2018-01-18    107.0\n",
      "Name: close, dtype: float64\n"
     ]
    }
   ],
   "source": [
    "#close ret per day;單期收益\n",
    "st_train = stock.close[:1000]\n",
    "print(st_train[-5:])\n",
    "st_test = stock.close[998:]\n",
    "priceret = st_train.diff(2)/st_train\n",
    "print(st_train.diff(2)[-5:])\n",
    "priceret = priceret.dropna()\n",
    "pricetest = st_test.diff(2)/st_test\n",
    "pricetest = pricetest.dropna()\n",
    "print(priceret[-5:])\n",
    "# print(pricetest[:5])\n",
    "print(\"===\"*8)\n",
    "print(stock.close[996:1004])\n",
    "# priceret.plot()\n",
    "# plt.show()"
   ]
  },
  {
   "cell_type": "code",
   "execution_count": 306,
   "metadata": {},
   "outputs": [
    {
     "name": "stdout",
     "output_type": "stream",
     "text": [
      "==================\n"
     ]
    },
    {
     "data": {
      "image/png": "[encoded data removed]",
      "text/plain": [
       "<matplotlib.figure.Figure at 0x11f22c160>"
      ]
     },
     "execution_count": 306,
     "metadata": {},
     "output_type": "execute_result"
    }
   ],
   "source": [
    "#calculate acf 自相關係數\n",
    "# acfs = st.acf(priceret,nlags=40)\n",
    "# print(acfs.getfield)\n",
    "\n",
    "print(\"===\"*6)\n",
    "\n",
    "plot_acf(priceret,lags=30)\n"
   ]
  },
  {
   "cell_type": "code",
   "execution_count": 135,
   "metadata": {},
   "outputs": [
    {
     "name": "stdout",
     "output_type": "stream",
     "text": [
      "[ 1.          0.50064138 -0.34954435  0.28852953 -0.2186469   0.17380915\n",
      " -0.21940365  0.14910733 -0.02914415  0.11859939 -0.04327881  0.12991713\n",
      " -0.06395492  0.04544847 -0.03563042  0.0329908  -0.082308    0.09675339\n",
      " -0.06438222  0.09067652 -0.14613047  0.05035763  0.0063901   0.11447708\n",
      " -0.09555762 -0.05163269 -0.10182882  0.02871369 -0.04440682  0.08270832\n",
      "  0.01205547  0.05259176  0.01726987 -0.01454214 -0.0311299  -0.00672182\n",
      " -0.03628303  0.01828533 -0.06504333  0.03722015 -0.01617914]\n",
      "========================\n"
     ]
    },
    {
     "data": {
      "image/png": "[encoded data removed]",
      "text/plain": [
       "<matplotlib.figure.Figure at 0x11e84ccf8>"
      ]
     },
     "execution_count": 135,
     "metadata": {},
     "output_type": "execute_result"
    }
   ],
   "source": [
    "#calculate pacf;偏自相關係數\n",
    "pacfs = st.pacf(priceret)\n",
    "print(pacfs)\n",
    "print(\"===\"*8)\n",
    "plot_pacf(priceret,use_vlines=True,lags=40)\n",
    "\n"
   ]
  },
  {
   "cell_type": "code",
   "execution_count": 136,
   "metadata": {},
   "outputs": [
    {
     "name": "stdout",
     "output_type": "stream",
     "text": [
      "{'10%': -2.5683508010519396, '5%': -2.8645089073679597, '1%': -3.43707471791689}\n",
      "-5.5995366961258926\n",
      "   Augmented Dickey-Fuller Results   \n",
      "=====================================\n",
      "Test Statistic                 -5.600\n",
      "P-value                         0.000\n",
      "Lags                               22\n",
      "-------------------------------------\n",
      "\n",
      "Trend: Constant\n",
      "Critical Values: -3.44 (1%), -2.86 (5%), -2.57 (10%)\n",
      "Null Hypothesis: The process contains a unit root.\n",
      "Alternative Hypothesis: The process is weakly stationary.\n"
     ]
    }
   ],
   "source": [
    "#ADF 單跟檢定 \n",
    "adf_priceret = ADF(priceret)\n",
    "print(adf_priceret.critical_values)\n",
    "print(adf_priceret.stat)\n",
    "print(adf_priceret.summary())\n",
    "#因為-32.661 < 1%顯著水準(-3.43) 拒絕非定態的虛無假設,判斷此序列為定態。"
   ]
  },
  {
   "cell_type": "code",
   "execution_count": 137,
   "metadata": {},
   "outputs": [
    {
     "name": "stdout",
     "output_type": "stream",
     "text": [
      "2.4968734649959624e-54\n"
     ]
    },
    {
     "data": {
      "text/plain": [
       "(array([250.89318567, 373.31978556, 456.82008089, 504.81892759,\n",
       "        535.18065965, 583.60978033, 605.99981919, 606.85606445,\n",
       "        621.04988007, 622.94189388, 640.00846274, 644.14847374]),\n",
       " array([1.65851160e-056, 8.60277519e-082, 1.08527567e-098, 6.07834747e-108,\n",
       "        2.02767319e-113, 7.99609840e-123, 1.24287512e-126, 7.85591382e-126,\n",
       "        6.34354918e-128, 2.13275321e-127, 3.84063587e-130, 3.91118554e-130]))"
      ]
     },
     "execution_count": 137,
     "metadata": {},
     "output_type": "execute_result"
    }
   ],
   "source": [
    "#白雜訊檢定 --Ljung-Box(LB)檢定\n",
    "print(st.q_stat(acfs[1:13],len(priceret))[1][-1])\n",
    "st.q_stat(pacfs[1:13],len(priceret))\n",
    "\n",
    "# 1.07e-74 <<0.05 存在自相關性"
   ]
  },
  {
   "cell_type": "code",
   "execution_count": 151,
   "metadata": {},
   "outputs": [
    {
     "name": "stderr",
     "output_type": "stream",
     "text": [
      "/Users/ray/.pyenv/versions/3.5.1/lib/python3.5/site-packages/statsmodels/tsa/base/tsa_model.py:225: ValueWarning: A date index has been provided, but it has no associated frequency information and so will be ignored when e.g. forecasting.\n",
      "  ' ignored when e.g. forecasting.', ValueWarning)\n",
      "/Users/ray/.pyenv/versions/3.5.1/lib/python3.5/site-packages/statsmodels/tsa/base/tsa_model.py:225: ValueWarning: A date index has been provided, but it has no associated frequency information and so will be ignored when e.g. forecasting.\n",
      "  ' ignored when e.g. forecasting.', ValueWarning)\n",
      "/Users/ray/.pyenv/versions/3.5.1/lib/python3.5/site-packages/statsmodels/tsa/base/tsa_model.py:225: ValueWarning: A date index has been provided, but it has no associated frequency information and so will be ignored when e.g. forecasting.\n",
      "  ' ignored when e.g. forecasting.', ValueWarning)\n",
      "/Users/ray/.pyenv/versions/3.5.1/lib/python3.5/site-packages/statsmodels/tsa/base/tsa_model.py:225: ValueWarning: A date index has been provided, but it has no associated frequency information and so will be ignored when e.g. forecasting.\n",
      "  ' ignored when e.g. forecasting.', ValueWarning)\n"
     ]
    },
    {
     "name": "stdout",
     "output_type": "stream",
     "text": [
      "-4187.905681065083 -4185.0223190356755 -4189.316111984239 -4188.710526696992\n"
     ]
    }
   ],
   "source": [
    "from statsmodels.tsa import arima_model as arima\n",
    "model1 = arima.ARIMA(priceret,order=(1,0,1)).fit()\n",
    "model2 = arima.ARIMA(priceret,order=(1,0,2)).fit()\n",
    "model3 = arima.ARIMA(priceret,order=(2,0,1)).fit()\n",
    "model4 = arima.ARIMA(priceret,order=(2,0,2)).fit()\n",
    "\n",
    "print(model1.aic,model2.aic,model3.aic,model4.aic)"
   ]
  },
  {
   "cell_type": "code",
   "execution_count": 184,
   "metadata": {},
   "outputs": [
    {
     "data": {
      "text/html": [
       "<div>\n",
       "<style scoped>\n",
       "    .dataframe tbody tr th:only-of-type {\n",
       "        vertical-align: middle;\n",
       "    }\n",
       "\n",
       "    .dataframe tbody tr th {\n",
       "        vertical-align: top;\n",
       "    }\n",
       "\n",
       "    .dataframe thead th {\n",
       "        text-align: right;\n",
       "    }\n",
       "</style>\n",
       "<table border=\"1\" class=\"dataframe\">\n",
       "  <thead>\n",
       "    <tr style=\"text-align: right;\">\n",
       "      <th></th>\n",
       "      <th>0</th>\n",
       "      <th>1</th>\n",
       "    </tr>\n",
       "  </thead>\n",
       "  <tbody>\n",
       "    <tr>\n",
       "      <th>const</th>\n",
       "      <td>-0.002786</td>\n",
       "      <td>-0.000308</td>\n",
       "    </tr>\n",
       "    <tr>\n",
       "      <th>ar.L1.close</th>\n",
       "      <td>0.982359</td>\n",
       "      <td>1.002844</td>\n",
       "    </tr>\n",
       "    <tr>\n",
       "      <th>ma.L1.close</th>\n",
       "      <td>-0.061510</td>\n",
       "      <td>-0.029801</td>\n",
       "    </tr>\n",
       "    <tr>\n",
       "      <th>ma.L2.close</th>\n",
       "      <td>-0.970103</td>\n",
       "      <td>-0.938585</td>\n",
       "    </tr>\n",
       "  </tbody>\n",
       "</table>\n",
       "</div>"
      ],
      "text/plain": [
       "                    0         1\n",
       "const       -0.002786 -0.000308\n",
       "ar.L1.close  0.982359  1.002844\n",
       "ma.L1.close -0.061510 -0.029801\n",
       "ma.L2.close -0.970103 -0.938585"
      ]
     },
     "execution_count": 184,
     "metadata": {},
     "output_type": "execute_result"
    }
   ],
   "source": [
    "model2.conf_int()\n"
   ]
  },
  {
   "cell_type": "code",
   "execution_count": 185,
   "metadata": {},
   "outputs": [],
   "source": [
    "import math"
   ]
  },
  {
   "cell_type": "code",
   "execution_count": 230,
   "metadata": {},
   "outputs": [
    {
     "data": {
      "image/png": "[encoded data removed]",
      "text/plain": [
       "<matplotlib.figure.Figure at 0x11f41bc50>"
      ]
     },
     "metadata": {},
     "output_type": "display_data"
    },
    {
     "data": {
      "image/png": "[encoded data removed]",
      "text/plain": [
       "<matplotlib.figure.Figure at 0x11f41b908>"
      ]
     },
     "metadata": {},
     "output_type": "display_data"
    },
    {
     "data": {
      "text/plain": [
       "0.08499201973891796"
      ]
     },
     "execution_count": 230,
     "metadata": {},
     "output_type": "execute_result"
    }
   ],
   "source": [
    "stdresid = model3.resid/math.sqrt(model3.sigma2)\n",
    "# print(stdresid)\n",
    "stdresid.plot.line()\n",
    "plot_acf(stdresid,lags=60)\n",
    "plt.show()\n",
    "\n",
    "Lj = st.q_stat(st.acf(stdresid)[1:13],len(stdresid))\n",
    "Lj[1][-1]\n"
   ]
  },
  {
   "cell_type": "code",
   "execution_count": 293,
   "metadata": {},
   "outputs": [
    {
     "name": "stdout",
     "output_type": "stream",
     "text": [
      "2018-01-15 0.01818181818181818 -0.004568158681216653\n",
      "110.0 110.0 107.50888236571316\n",
      "===\n",
      "2018-01-16 0.01818181818181818 -0.004522011419129529\n",
      "110.0 110.0 107.51382127249154\n",
      "===\n",
      "2018-01-17 -0.009174311926605505 -0.002001311563635965\n",
      "109.0 109.0 109.78029542530597\n",
      "===\n",
      "2018-01-18 -0.028037383177570093 -0.0018481618402038694\n",
      "107.0 107.00000000000001 109.79707723169446\n",
      "===\n",
      "2018-01-19 -0.02830188679245283 -0.0019912338793645276\n",
      "106.0 105.99999999999999 108.78338683462287\n",
      "===\n"
     ]
    }
   ],
   "source": [
    "#forecast 5 step\n",
    "\n",
    "i = 0\n",
    "while i < 5: \n",
    "    date = pricetest.index[i]\n",
    "    date_position = stock.close.index.get_loc(date)\n",
    "    print(pricetest.index[i],pricetest[i],model3.forecast(5)[0][i])\n",
    "    testdata = stock.close[date_position-2]/(1-pricetest[i]) #還原股價\n",
    "    forecastdata = stock.close[date_position-2]/(1-model3.forecast(5)[0][i]) #還原預測股價\n",
    "    print(stock.close[date],testdata,forecastdata)\n",
    "    i +=1 \n",
    "    print(\"===\")\n",
    "    "
   ]
  },
  {
   "cell_type": "code",
   "execution_count": 304,
   "metadata": {},
   "outputs": [
    {
     "name": "stdout",
     "output_type": "stream",
     "text": [
      "Positive directional derivative for linesearch    (Exit mode 8)\n",
      "            Current function value: -1948.2307443830477\n",
      "            Iterations: 6\n",
      "            Function evaluations: 19\n",
      "            Gradient evaluations: 2\n",
      "Iteration:      1,   Func. Count:      6,   Neg. LLF: -1947.360065219473\n",
      "Iteration:      2,   Func. Count:     19,   Neg. LLF: -1948.230739760705\n",
      "Positive directional derivative for linesearch    (Exit mode 8)\n",
      "            Current function value: -1948.2307443830477\n",
      "            Iterations: 6\n",
      "            Function evaluations: 19\n",
      "            Gradient evaluations: 2\n",
      "===\n",
      "                     Constant Mean - GARCH Model Results                      \n",
      "==============================================================================\n",
      "Dep. Variable:                  close   R-squared:                      -0.001\n",
      "Mean Model:             Constant Mean   Adj. R-squared:                 -0.001\n",
      "Vol Model:                      GARCH   Log-Likelihood:                1948.23\n",
      "Distribution:                  Normal   AIC:                          -3888.46\n",
      "Method:            Maximum Likelihood   BIC:                          -3868.84\n",
      "                                        No. Observations:                  998\n",
      "Date:                Sat, Feb 09 2019   Df Residuals:                      994\n",
      "Time:                        02:02:38   Df Model:                            4\n",
      "                                  Mean Model                                  \n",
      "==============================================================================\n",
      "                  coef    std err          t      P>|t|       95.0% Conf. Int.\n",
      "------------------------------------------------------------------------------\n",
      "mu         -6.5887e-04  1.411e-03     -0.467      0.641 [-3.424e-03,2.107e-03]\n",
      "                               Volatility Model                              \n",
      "=============================================================================\n",
      "                 coef    std err          t      P>|t|       95.0% Conf. Int.\n",
      "-----------------------------------------------------------------------------\n",
      "omega      1.7579e-04  1.084e-03      0.162      0.871 [-1.949e-03,2.300e-03]\n",
      "alpha[1]       0.2000      0.292      0.685      0.494      [ -0.373,  0.773]\n",
      "beta[1]        0.7000      0.899      0.779      0.436      [ -1.061,  2.461]\n",
      "=============================================================================\n",
      "\n",
      "Covariance estimator: robust\n",
      "\n",
      "WARNING: The optimizer did not indicate successful convergence. The message was\n",
      "Positive directional derivative for linesearch. See convergence_flag.\n"
     ]
    },
    {
     "name": "stderr",
     "output_type": "stream",
     "text": [
      "/Users/ray/.pyenv/versions/3.5.1/lib/python3.5/site-packages/arch/univariate/base.py:571: ConvergenceWarning: \n",
      "The optimizer returned code 8. The message is:\n",
      "Positive directional derivative for linesearch\n",
      "See scipy.optimize.fmin_slsqp for code meaning.\n",
      "\n",
      "  ConvergenceWarning)\n",
      "/Users/ray/.pyenv/versions/3.5.1/lib/python3.5/site-packages/arch/univariate/base.py:571: ConvergenceWarning: \n",
      "The optimizer returned code 8. The message is:\n",
      "Positive directional derivative for linesearch\n",
      "See scipy.optimize.fmin_slsqp for code meaning.\n",
      "\n",
      "  ConvergenceWarning)\n"
     ]
    }
   ],
   "source": [
    "#check ARCH effect \n",
    "from arch import arch_model \n",
    "\n",
    "am = arch_model(priceret)\n",
    "model = am.fit(update_freq=0)\n",
    "\n",
    "# print(am)\n",
    "am.fit()\n",
    "print(\"===\")\n",
    "print(model.summary())\n",
    "\n",
    "\n",
    "\n"
   ]
  },
  {
   "cell_type": "code",
   "execution_count": null,
   "metadata": {},
   "outputs": [],
   "source": []
  }
 ],
 "metadata": {
  "kernelspec": {
   "display_name": "Python 3",
   "language": "python",
   "name": "python3"
  },
  "language_info": {
   "codemirror_mode": {
    "name": "ipython",
    "version": 3
   },
   "file_extension": ".py",
   "mimetype": "text/x-python",
   "name": "python",
   "nbconvert_exporter": "python",
   "pygments_lexer": "ipython3",
   "version": "3.5.1"
  }
 },
 "nbformat": 4,
 "nbformat_minor": 2
}
